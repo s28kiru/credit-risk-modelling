{
 "cells": [
  {
   "cell_type": "code",
   "execution_count": 15,
   "metadata": {},
   "outputs": [],
   "source": [
    "import numpy as np\n",
    "import pandas as pd\n",
    "import matplotlib.pyplot as plt\n",
    "%matplotlib inline\n",
    "import seaborn as sns\n",
    "from sklearn.model_selection import train_test_split\n",
    "from sklearn.metrics import confusion_matrix\n",
    "from sklearn.metrics import accuracy_score\n",
    "from sklearn.metrics import roc_auc_score\n",
    "from sklearn.preprocessing import StandardScaler\n",
    "from sklearn.neural_network import MLPClassifier"
   ]
  },
  {
   "cell_type": "code",
   "execution_count": 2,
   "metadata": {},
   "outputs": [],
   "source": [
    "train_data = pd.read_csv(\"data/UCI_Credit_Card.csv\")"
   ]
  },
  {
   "cell_type": "code",
   "execution_count": 3,
   "metadata": {},
   "outputs": [],
   "source": [
    "dummy_columns = ['SEX', 'EDUCATION', 'MARRIAGE', 'PAY_0', 'PAY_2', 'PAY_3', 'PAY_4', 'PAY_5', 'PAY_6']\n",
    "\n",
    "for i in range(0, len(dummy_columns)):\n",
    "    colname = \"df_\" + str(i)\n",
    "    train_data[dummy_columns[i]] = pd.Categorical(train_data[dummy_columns[i]])\n",
    "    train_data[dummy_columns[i]] = train_data[dummy_columns[i]].cat.codes\n",
    "    colname = pd.get_dummies(train_data[dummy_columns[i]])\n",
    "    train_data = pd.concat([train_data, colname], axis = 1)\n",
    "\n",
    "train_data = train_data.drop(dummy_columns, axis = 1)"
   ]
  },
  {
   "cell_type": "code",
   "execution_count": 4,
   "metadata": {},
   "outputs": [
    {
     "name": "stdout",
     "output_type": "stream",
     "text": [
      "<class 'pandas.core.frame.DataFrame'>\n",
      "RangeIndex: 30000 entries, 0 to 29999\n",
      "Data columns (total 93 columns):\n",
      "ID                            30000 non-null int64\n",
      "LIMIT_BAL                     30000 non-null float64\n",
      "AGE                           30000 non-null int64\n",
      "BILL_AMT1                     30000 non-null float64\n",
      "BILL_AMT2                     30000 non-null float64\n",
      "BILL_AMT3                     30000 non-null float64\n",
      "BILL_AMT4                     30000 non-null float64\n",
      "BILL_AMT5                     30000 non-null float64\n",
      "BILL_AMT6                     30000 non-null float64\n",
      "PAY_AMT1                      30000 non-null float64\n",
      "PAY_AMT2                      30000 non-null float64\n",
      "PAY_AMT3                      30000 non-null float64\n",
      "PAY_AMT4                      30000 non-null float64\n",
      "PAY_AMT5                      30000 non-null float64\n",
      "PAY_AMT6                      30000 non-null float64\n",
      "default.payment.next.month    30000 non-null int64\n",
      "0                             30000 non-null uint8\n",
      "1                             30000 non-null uint8\n",
      "0                             30000 non-null uint8\n",
      "1                             30000 non-null uint8\n",
      "2                             30000 non-null uint8\n",
      "3                             30000 non-null uint8\n",
      "4                             30000 non-null uint8\n",
      "5                             30000 non-null uint8\n",
      "6                             30000 non-null uint8\n",
      "0                             30000 non-null uint8\n",
      "1                             30000 non-null uint8\n",
      "2                             30000 non-null uint8\n",
      "3                             30000 non-null uint8\n",
      "0                             30000 non-null uint8\n",
      "1                             30000 non-null uint8\n",
      "2                             30000 non-null uint8\n",
      "3                             30000 non-null uint8\n",
      "4                             30000 non-null uint8\n",
      "5                             30000 non-null uint8\n",
      "6                             30000 non-null uint8\n",
      "7                             30000 non-null uint8\n",
      "8                             30000 non-null uint8\n",
      "9                             30000 non-null uint8\n",
      "10                            30000 non-null uint8\n",
      "0                             30000 non-null uint8\n",
      "1                             30000 non-null uint8\n",
      "2                             30000 non-null uint8\n",
      "3                             30000 non-null uint8\n",
      "4                             30000 non-null uint8\n",
      "5                             30000 non-null uint8\n",
      "6                             30000 non-null uint8\n",
      "7                             30000 non-null uint8\n",
      "8                             30000 non-null uint8\n",
      "9                             30000 non-null uint8\n",
      "10                            30000 non-null uint8\n",
      "0                             30000 non-null uint8\n",
      "1                             30000 non-null uint8\n",
      "2                             30000 non-null uint8\n",
      "3                             30000 non-null uint8\n",
      "4                             30000 non-null uint8\n",
      "5                             30000 non-null uint8\n",
      "6                             30000 non-null uint8\n",
      "7                             30000 non-null uint8\n",
      "8                             30000 non-null uint8\n",
      "9                             30000 non-null uint8\n",
      "10                            30000 non-null uint8\n",
      "0                             30000 non-null uint8\n",
      "1                             30000 non-null uint8\n",
      "2                             30000 non-null uint8\n",
      "3                             30000 non-null uint8\n",
      "4                             30000 non-null uint8\n",
      "5                             30000 non-null uint8\n",
      "6                             30000 non-null uint8\n",
      "7                             30000 non-null uint8\n",
      "8                             30000 non-null uint8\n",
      "9                             30000 non-null uint8\n",
      "10                            30000 non-null uint8\n",
      "0                             30000 non-null uint8\n",
      "1                             30000 non-null uint8\n",
      "2                             30000 non-null uint8\n",
      "3                             30000 non-null uint8\n",
      "4                             30000 non-null uint8\n",
      "5                             30000 non-null uint8\n",
      "6                             30000 non-null uint8\n",
      "7                             30000 non-null uint8\n",
      "8                             30000 non-null uint8\n",
      "9                             30000 non-null uint8\n",
      "0                             30000 non-null uint8\n",
      "1                             30000 non-null uint8\n",
      "2                             30000 non-null uint8\n",
      "3                             30000 non-null uint8\n",
      "4                             30000 non-null uint8\n",
      "5                             30000 non-null uint8\n",
      "6                             30000 non-null uint8\n",
      "7                             30000 non-null uint8\n",
      "8                             30000 non-null uint8\n",
      "9                             30000 non-null uint8\n",
      "dtypes: float64(13), int64(3), uint8(77)\n",
      "memory usage: 5.9 MB\n"
     ]
    }
   ],
   "source": [
    "train_data.info()"
   ]
  },
  {
   "cell_type": "code",
   "execution_count": 5,
   "metadata": {},
   "outputs": [],
   "source": [
    "train_data.set_index(['ID'], inplace = True)"
   ]
  },
  {
   "cell_type": "code",
   "execution_count": 6,
   "metadata": {},
   "outputs": [],
   "source": [
    "train_data.rename(columns = {'default.payment.next.month': 'DEFAULT'}, inplace = True)\n",
    "train_data.DEFAULT = train_data.DEFAULT.apply(str)"
   ]
  },
  {
   "cell_type": "code",
   "execution_count": 8,
   "metadata": {},
   "outputs": [],
   "source": [
    "target = train_data.DEFAULT\n",
    "train_data = train_data.drop(['DEFAULT'], axis = 1)"
   ]
  },
  {
   "cell_type": "code",
   "execution_count": 9,
   "metadata": {},
   "outputs": [],
   "source": [
    "X_train, X_test, y_train, y_test = train_test_split(train_data, target ,test_size=0.3)"
   ]
  },
  {
   "cell_type": "code",
   "execution_count": 13,
   "metadata": {},
   "outputs": [
    {
     "name": "stderr",
     "output_type": "stream",
     "text": [
      "/anaconda3/lib/python3.7/site-packages/sklearn/preprocessing/data.py:625: DataConversionWarning: Data with input dtype uint8, int64, float64 were all converted to float64 by StandardScaler.\n",
      "  return self.partial_fit(X, y)\n"
     ]
    },
    {
     "data": {
      "text/plain": [
       "StandardScaler(copy=True, with_mean=True, with_std=True)"
      ]
     },
     "execution_count": 13,
     "metadata": {},
     "output_type": "execute_result"
    }
   ],
   "source": [
    "scaler = StandardScaler()\n",
    "scaler.fit(X_train)"
   ]
  },
  {
   "cell_type": "code",
   "execution_count": 14,
   "metadata": {},
   "outputs": [
    {
     "name": "stderr",
     "output_type": "stream",
     "text": [
      "/anaconda3/lib/python3.7/site-packages/ipykernel_launcher.py:2: DataConversionWarning: Data with input dtype uint8, int64, float64 were all converted to float64 by StandardScaler.\n",
      "  \n",
      "/anaconda3/lib/python3.7/site-packages/ipykernel_launcher.py:3: DataConversionWarning: Data with input dtype uint8, int64, float64 were all converted to float64 by StandardScaler.\n",
      "  This is separate from the ipykernel package so we can avoid doing imports until\n"
     ]
    }
   ],
   "source": [
    "# Now apply the transformations to the data:\n",
    "X_train = scaler.transform(X_train)\n",
    "X_test = scaler.transform(X_test)"
   ]
  },
  {
   "cell_type": "code",
   "execution_count": 16,
   "metadata": {},
   "outputs": [],
   "source": [
    "mlp = MLPClassifier(hidden_layer_sizes=(13,13,13),max_iter=500)"
   ]
  },
  {
   "cell_type": "code",
   "execution_count": 17,
   "metadata": {},
   "outputs": [
    {
     "data": {
      "text/plain": [
       "MLPClassifier(activation='relu', alpha=0.0001, batch_size='auto', beta_1=0.9,\n",
       "       beta_2=0.999, early_stopping=False, epsilon=1e-08,\n",
       "       hidden_layer_sizes=(13, 13, 13), learning_rate='constant',\n",
       "       learning_rate_init=0.001, max_iter=500, momentum=0.9,\n",
       "       n_iter_no_change=10, nesterovs_momentum=True, power_t=0.5,\n",
       "       random_state=None, shuffle=True, solver='adam', tol=0.0001,\n",
       "       validation_fraction=0.1, verbose=False, warm_start=False)"
      ]
     },
     "execution_count": 17,
     "metadata": {},
     "output_type": "execute_result"
    }
   ],
   "source": [
    "mlp.fit(X_train,y_train)"
   ]
  },
  {
   "cell_type": "code",
   "execution_count": 18,
   "metadata": {},
   "outputs": [],
   "source": [
    "predictions = mlp.predict(X_test)"
   ]
  },
  {
   "cell_type": "code",
   "execution_count": 20,
   "metadata": {},
   "outputs": [],
   "source": [
    "y_pred_proba = mlp.predict_proba(X_test)"
   ]
  },
  {
   "cell_type": "code",
   "execution_count": 22,
   "metadata": {},
   "outputs": [
    {
     "data": {
      "text/plain": [
       "array([[6571,  437],\n",
       "       [1277,  715]])"
      ]
     },
     "execution_count": 22,
     "metadata": {},
     "output_type": "execute_result"
    }
   ],
   "source": [
    "confusion_matrix(y_test, predictions)"
   ]
  },
  {
   "cell_type": "code",
   "execution_count": 23,
   "metadata": {},
   "outputs": [
    {
     "data": {
      "text/plain": [
       "0.8095555555555556"
      ]
     },
     "execution_count": 23,
     "metadata": {},
     "output_type": "execute_result"
    }
   ],
   "source": [
    "accuracy_score(y_test, predictions)"
   ]
  },
  {
   "cell_type": "code",
   "execution_count": 24,
   "metadata": {},
   "outputs": [
    {
     "data": {
      "text/plain": [
       "0.7546986963264015"
      ]
     },
     "execution_count": 24,
     "metadata": {},
     "output_type": "execute_result"
    }
   ],
   "source": [
    "roc_auc_score(y_test, y_pred_proba[:,1])"
   ]
  }
 ],
 "metadata": {
  "kernelspec": {
   "display_name": "Python 3",
   "language": "python",
   "name": "python3"
  },
  "language_info": {
   "codemirror_mode": {
    "name": "ipython",
    "version": 3
   },
   "file_extension": ".py",
   "mimetype": "text/x-python",
   "name": "python",
   "nbconvert_exporter": "python",
   "pygments_lexer": "ipython3",
   "version": "3.7.1"
  }
 },
 "nbformat": 4,
 "nbformat_minor": 2
}
